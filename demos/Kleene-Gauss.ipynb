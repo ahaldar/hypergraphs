{
 "cells": [
  {
   "cell_type": "code",
   "execution_count": 7,
   "metadata": {},
   "outputs": [],
   "source": [
    "from hypergraphs.apps.kleene import kleene\n",
    "\n",
    "from hypergraphs.semirings import LazySort, flatten\n",
    "from arsenal.iterextras import take"
   ]
  },
  {
   "cell_type": "code",
   "execution_count": 8,
   "metadata": {},
   "outputs": [],
   "source": [
    "def matrix(Weight):\n",
    "    A = np.array([\n",
    "        [Weight.lift(.7, 'a'), Weight.lift(.2, 'b')],\n",
    "        [Weight.lift(.1, 'c'), Weight.lift(.9, 'd')],\n",
    "    ])\n",
    "    b = np.array([Weight.lift(1, '^'), Weight.zero])\n",
    "    c = np.array([Weight.lift(1, '$'), Weight.zero])\n",
    "    return A, b, c"
   ]
  },
  {
   "cell_type": "code",
   "execution_count": 9,
   "metadata": {},
   "outputs": [
    {
     "name": "stdout",
     "output_type": "stream",
     "text": [
      "1.00000 ^$\n",
      "0.70000 ^a$\n",
      "0.49000 ^aa$\n",
      "0.34300 ^aaa$\n",
      "0.24010 ^aaaa$\n",
      "0.16807 ^aaaaa$\n",
      "0.11765 ^aaaaaa$\n",
      "0.08235 ^aaaaaaa$\n",
      "0.05765 ^aaaaaaaa$\n",
      "0.04035 ^aaaaaaaaa$\n",
      "0.02825 ^aaaaaaaaaa$\n",
      "0.02000 ^bc$\n",
      "0.01977 ^aaaaaaaaaaa$\n",
      "0.01800 ^bdc$\n",
      "0.01400 ^bca$\n",
      "0.01400 ^abc$\n",
      "0.01384 ^aaaaaaaaaaaa$\n",
      "0.01260 ^bdca$\n",
      "0.01260 ^abdc$\n",
      "0.00980 ^bcaa$\n"
     ]
    }
   ],
   "source": [
    "A, b, c = matrix(LazySort)\n",
    "for x in take(20, (b @ kleene(A, LazySort) @ c)):\n",
    "    print(f'{x.score:.5f}', ''.join(flatten(x.data)))"
   ]
  },
  {
   "cell_type": "code",
   "execution_count": 10,
   "metadata": {},
   "outputs": [
    {
     "name": "stdout",
     "output_type": "stream",
     "text": [
      "10.0\n"
     ]
    }
   ],
   "source": [
    "from hypergraphs.semirings.float import Float\n",
    "A, b, c = matrix(Float)\n",
    "z = (b @ kleene(A, Float) @ c)\n",
    "print(z)"
   ]
  },
  {
   "cell_type": "code",
   "execution_count": 11,
   "metadata": {},
   "outputs": [
    {
     "name": "stdout",
     "output_type": "stream",
     "text": [
      "^bddddddddddddddddddddddddddddddcaa$\n",
      "^$\n",
      "^aaaaa$\n",
      "^$\n",
      "^aaabddcaaaa$\n",
      "^aaaaaaaabdddddddddcaabdddddddddddddcaaaaaaabdcaabddddcaaaaaabdddddddddddddddddcbdddddcabddddddddddddddddddddddddddddddcaabddddddddddddddddddddddddddddddddddddddddddddddddddddddddddddddcaaaabcaaaaa$\n",
      "^bdddddddddddddddddddddddddcaa$\n",
      "^bddcaaaaaa$\n",
      "^abddddddddddddddc$\n",
      "^aaaaabdddddddddddddddddddddddddddddddcaa$\n"
     ]
    }
   ],
   "source": [
    "from hypergraphs.semirings.sampling.lazy2 import Sample\n",
    "A, b, c = matrix(Sample)\n",
    "for _ in range(10):\n",
    "    z,d = iter(b @ kleene(A, Sample) @ c).__next__()\n",
    "    print(''.join((y or '') for y in flatten(d)))"
   ]
  },
  {
   "cell_type": "code",
   "execution_count": 14,
   "metadata": {},
   "outputs": [
    {
     "name": "stdout",
     "output_type": "stream",
     "text": [
      "aa\n",
      "aaaaaaa\n",
      "aaaaaaaaaaaaaaaaaaaa\n",
      "aaaa\n",
      "aaaaaaaaaaaaaaaaaaa\n",
      "aaaaaaaaaaaaa\n",
      "aa\n",
      "aaaaaaaaaaaaa\n",
      "aa\n",
      "aaaaaaaaaaaaaaa\n"
     ]
    }
   ],
   "source": [
    "for _ in range(10):\n",
    "    print(''.join(flatten(Sample.star(Sample(.9, 'a')).sample()[1])))"
   ]
  },
  {
   "cell_type": "code",
   "execution_count": null,
   "metadata": {},
   "outputs": [],
   "source": []
  }
 ],
 "metadata": {
  "kernelspec": {
   "display_name": "Python 3",
   "language": "python",
   "name": "python3"
  },
  "language_info": {
   "codemirror_mode": {
    "name": "ipython",
    "version": 3
   },
   "file_extension": ".py",
   "mimetype": "text/x-python",
   "name": "python",
   "nbconvert_exporter": "python",
   "pygments_lexer": "ipython3",
   "version": "3.8.5"
  }
 },
 "nbformat": 4,
 "nbformat_minor": 4
}
