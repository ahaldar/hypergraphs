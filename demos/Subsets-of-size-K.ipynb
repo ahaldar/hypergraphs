{
 "cells": [
  {
   "cell_type": "markdown",
   "metadata": {},
   "source": [
    "# Generalized binomial coefficients\n",
    "\n",
    "Here we give a simple model of subsets of $K$ from a base set $\\mathcal{Y} = \\{1, \\ldots, N\\}$.  We assume that each element $i \\in \\mathcal{Y}$ has a weight $w_i$.\n",
    "\n",
    "The probability of a set $Y \\subseteq \\mathcal{Y}$ is\n",
    "\n",
    "$$\n",
    "p(Y) \\propto \\begin{cases}\n",
    "\\prod_{i \\in Y} w_i & \\textbf{if } |Y|=K \\\\\n",
    "0 & \\textbf{otherwise}\n",
    "\\end{cases}\n",
    "$$\n",
    "\n",
    "We can compute the normalization constant of this distribution using a generalized version of the dynamic programming algorithm for computing [binomial coefficients](https://en.wikipedia.org/wiki/Binomial_coefficient)."
   ]
  },
  {
   "cell_type": "code",
   "execution_count": 7,
   "metadata": {},
   "outputs": [],
   "source": [
    "import numpy as np\n",
    "from hypergraphs.semirings import LazySort, flatten\n",
    "\n",
    "def subsets(w, K, zero, one):\n",
    "    \"Subsets of size K\"\n",
    "    N = len(w)\n",
    "    E = np.full((K+1,N+1), zero)\n",
    "    E[0,:] = one                     # initialization\n",
    "    for k in range(1, K+1):\n",
    "        for n in range(N):\n",
    "            E[k,n+1] = E[k,n] + E[k-1,n] * w[n]\n",
    "    return E[K,N]"
   ]
  },
  {
   "cell_type": "markdown",
   "metadata": {},
   "source": [
    "Below, we check that we match the binomial coefficients when all the weights are 1."
   ]
  },
  {
   "cell_type": "code",
   "execution_count": 11,
   "metadata": {},
   "outputs": [],
   "source": [
    "from scipy.special import binom\n",
    "N,K = 15,4\n",
    "want = binom(N, K)\n",
    "got = subsets(np.ones(N), K, 0.0, 1.0)\n",
    "assert np.allclose(want, got)"
   ]
  },
  {
   "cell_type": "markdown",
   "metadata": {},
   "source": [
    "Below, we use the `LazySort` semiring to see all of the structures that we summed over in order of the highest scoring subsets."
   ]
  },
  {
   "cell_type": "code",
   "execution_count": 8,
   "metadata": {},
   "outputs": [
    {
     "name": "stdout",
     "output_type": "stream",
     "text": [
      "0.194 {0, 3, 4}\n",
      "0.113 {3, 4, 5}\n",
      "0.102 {0, 3, 5}\n",
      "0.097 {0, 4, 5}\n",
      "0.070 {1, 3, 4}\n",
      "0.063 {0, 1, 3}\n",
      "0.060 {0, 1, 4}\n",
      "0.038 {2, 3, 4}\n",
      "0.037 {1, 3, 5}\n",
      "0.035 {1, 4, 5}\n",
      "0.034 {0, 2, 3}\n",
      "0.032 {0, 2, 4}\n",
      "0.031 {0, 1, 5}\n",
      "0.020 {2, 3, 5}\n",
      "0.019 {2, 4, 5}\n",
      "0.017 {0, 2, 5}\n",
      "0.012 {1, 2, 3}\n",
      "0.012 {1, 2, 4}\n",
      "0.010 {0, 1, 2}\n",
      "0.006 {1, 2, 5}\n"
     ]
    }
   ],
   "source": [
    "N = 6\n",
    "K = 3 \n",
    "ws = np.random.uniform(0, 1, size=N)\n",
    "z = subsets([LazySort(w, i) for i, w in enumerate(ws)], K, LazySort.zero(), LazySort.one())\n",
    "Z = subsets(ws, K, 0.0, 1.0)  # normalization constant computed in the sum-product semiring\n",
    "for x in z:\n",
    "    print(f'{x.score/Z:.3f} {set(flatten(x.data))}')  # print subsets sorted by decreasing probability"
   ]
  },
  {
   "cell_type": "markdown",
   "metadata": {},
   "source": [
    "As usual, we can use the outside algorithm to compute marginal sums.\n",
    "\n",
    "**TODO**: compute the marginals via the outside algorithm."
   ]
  },
  {
   "cell_type": "code",
   "execution_count": null,
   "metadata": {},
   "outputs": [],
   "source": []
  },
  {
   "cell_type": "code",
   "execution_count": null,
   "metadata": {},
   "outputs": [],
   "source": []
  }
 ],
 "metadata": {
  "kernelspec": {
   "display_name": "Python 3",
   "language": "python",
   "name": "python3"
  },
  "language_info": {
   "codemirror_mode": {
    "name": "ipython",
    "version": 3
   },
   "file_extension": ".py",
   "mimetype": "text/x-python",
   "name": "python",
   "nbconvert_exporter": "python",
   "pygments_lexer": "ipython3",
   "version": "3.7.6"
  }
 },
 "nbformat": 4,
 "nbformat_minor": 4
}
