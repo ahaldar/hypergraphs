{
 "cells": [
  {
   "cell_type": "markdown",
   "metadata": {},
   "source": [
    "# Summing over subsets of size K\n",
    "\n",
    "Here we give a simple model of subsets of $K$ from a base set $\\mathcal{Y} = \\{1, \\ldots, N\\}$.  We assume that each element $i \\in \\mathcal{Y}$ has a weight $w_i$.\n",
    "\n",
    "The probability of a set $Y \\subseteq \\mathcal{Y}$ is\n",
    "\n",
    "$$\n",
    "p(Y) \\propto \\begin{cases}\n",
    "\\prod_{i \\in Y} w_i & \\textbf{if } |Y|=K \\\\\n",
    "0 & \\textbf{otherwise}\n",
    "\\end{cases}\n",
    "$$\n",
    "\n",
    "We can compute the normalization constant of this distribution using a generalized version of the dynamic programming algorithm for computing [binomial coefficients](https://en.wikipedia.org/wiki/Binomial_coefficient)."
   ]
  },
  {
   "cell_type": "code",
   "execution_count": 5,
   "metadata": {},
   "outputs": [],
   "source": [
    "import numpy as np\n",
    "from hypergraphs.semirings import LazySort, flatten\n",
    "\n",
    "def subsets(w, K, zero, one):\n",
    "    \"Subsets of size K\"\n",
    "    N = len(w)\n",
    "    E = np.full((K+1,N+1), zero)\n",
    "    E[0,:] = one                     # initialization\n",
    "    for k in range(1, K+1):\n",
    "        for n in range(N):\n",
    "            E[k,n+1] = E[k,n] + E[k-1,n] * w[n]\n",
    "    return E[K,N]"
   ]
  },
  {
   "cell_type": "markdown",
   "metadata": {},
   "source": [
    "Below, we use the `LazySort` semiring to see all of the structures that we summed over in order of the highest scoring subsets."
   ]
  },
  {
   "cell_type": "code",
   "execution_count": 24,
   "metadata": {},
   "outputs": [
    {
     "name": "stdout",
     "output_type": "stream",
     "text": [
      "0.107 {2, 3, 4}\n",
      "0.094 {1, 3, 4}\n",
      "0.080 {1, 2, 3}\n",
      "0.074 {3, 4, 5}\n",
      "0.063 {2, 3, 5}\n",
      "0.060 {1, 2, 4}\n",
      "0.057 {0, 3, 4}\n",
      "0.055 {1, 3, 5}\n",
      "0.048 {0, 2, 3}\n",
      "0.047 {2, 4, 5}\n",
      "0.042 {0, 1, 3}\n",
      "0.042 {1, 4, 5}\n",
      "0.036 {0, 2, 4}\n",
      "0.035 {1, 2, 5}\n",
      "0.033 {0, 3, 5}\n",
      "0.032 {0, 1, 4}\n",
      "0.027 {0, 1, 2}\n",
      "0.025 {0, 4, 5}\n",
      "0.021 {0, 2, 5}\n",
      "0.019 {0, 1, 5}\n"
     ]
    }
   ],
   "source": [
    "N = 6\n",
    "K = 3 \n",
    "ws = np.random.uniform(0, 1, size=N)\n",
    "z = subsets([LazySort(w, i) for i, w in enumerate(ws)], K, LazySort.zero(), LazySort.one())\n",
    "Z = subsets(ws, K, 0.0, 1.0)  # normalization constant computed in the sum-product semiring\n",
    "for x in z:\n",
    "    print(f'{x.score/Z:.3f} {set(flatten(x.data))}')  # print subsets sorted by decreasing probability"
   ]
  },
  {
   "cell_type": "markdown",
   "metadata": {},
   "source": [
    "As usual, we can use the outside algorithm to compute marginal sums."
   ]
  },
  {
   "cell_type": "code",
   "execution_count": 38,
   "metadata": {},
   "outputs": [],
   "source": [
    "# TODO: It's annoying to write the computation in two ways.  It would be much nicer \n",
    "# to extract the hypergraph by running the dynamic program with its loops and all.\n",
    "# I suppose we could do that by a \"hypergraph semiring\" which accumulates Edge objects \n",
    "# creates.  However, it's unclear how the nodes and edges get named.  I think the answer \n",
    "# to that is that the memo table will name nodes by a the key used.  This seems ok: \n",
    "#     chart[key]            +=             chart[body1]    *     ....   *   chart[bodyK] \n",
    "#      ^^^^^^^              ^^                            ^^^          ^^^\n",
    "#    create/lookup node    add hyperedge           hyperedge body is a K-tuple \n",
    "\n",
    "from hypergraphs import Hypergraph\n",
    "def subset_graph(w, K):\n",
    "    \"Subsets of size K\"\n",
    "    N = len(w)\n",
    "    G = Hypergraph(root=(K,N))\n",
    "    for n in range(N):\n",
    "        G.edge(1.0, (0,n))        # terminal\n",
    "    for k in range(1, K+1):\n",
    "        for n in range(N):\n",
    "            G.edge(1.0, (k,n+1), (k,n))\n",
    "            G.edge(w[n], (k,n+1), (k-1,n))  # we, can alternatively make w[n] a node, \n",
    "                                            # which will make the outside score equal to incl/w.\n",
    "    return G\n",
    "\n",
    "G = subset_graph(ws, K)\n",
    "#G.show()"
   ]
  },
  {
   "cell_type": "code",
   "execution_count": null,
   "metadata": {},
   "outputs": [],
   "source": []
  }
 ],
 "metadata": {
  "kernelspec": {
   "display_name": "Python 3",
   "language": "python",
   "name": "python3"
  },
  "language_info": {
   "codemirror_mode": {
    "name": "ipython",
    "version": 3
   },
   "file_extension": ".py",
   "mimetype": "text/x-python",
   "name": "python",
   "nbconvert_exporter": "python",
   "pygments_lexer": "ipython3",
   "version": "3.7.6"
  }
 },
 "nbformat": 4,
 "nbformat_minor": 4
}
