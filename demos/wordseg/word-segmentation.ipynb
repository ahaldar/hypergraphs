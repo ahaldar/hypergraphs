{
 "cells": [
  {
   "cell_type": "code",
   "execution_count": 9,
   "metadata": {},
   "outputs": [],
   "source": [
    "\"\"\"\n",
    "Top-k segementations of unintentionally funny URLs.\n",
    "\"\"\"\n",
    "import numpy as np\n",
    "from collections import Counter\n",
    "from hypergraphs.semirings import LazySort\n",
    "from arsenal import colors\n",
    "from arsenal.iterextras import take\n",
    "\n",
    "\n",
    "def segmentation(x, g, L=None):\n",
    "    N = len(x)\n",
    "    L = N if L is None else L\n",
    "    V = np.full(N+1, LazySort.zero())\n",
    "    V[0] = LazySort.one()\n",
    "    for i in range(1, N+1):\n",
    "        for j in range(max(i-L,0), i):\n",
    "            w = g(x[j:i])\n",
    "            if w is None: continue\n",
    "            V[i] += V[j] * LazySort(w, x[j:i])\n",
    "    return V[N]\n",
    "\n",
    "\n",
    "def fit():\n",
    "\n",
    "    freq = Counter()\n",
    "    for line in open('unigrams.txt'):\n",
    "        w, x = line.lower().strip().split()\n",
    "        freq[w] = float(x)\n",
    "    z = sum(freq.values())\n",
    "    freq = {w: freq[w]/z for w in freq}\n",
    "\n",
    "    def score(w):\n",
    "        return freq.get(w)\n",
    "\n",
    "    return score"
   ]
  },
  {
   "cell_type": "code",
   "execution_count": 10,
   "metadata": {},
   "outputs": [
    {
     "name": "stdout",
     "output_type": "stream",
     "text": [
      "\n",
      "\u001b[1;33mpenisland\u001b[0m\n",
      "(5.509575944547597e-09, ['penis', 'land'])\n",
      "(4.842743573989047e-09, ['pen', 'island'])\n",
      "(2.9858347243500054e-10, [['penis', 'l'], 'and'])\n",
      "(3.90571246926652e-11, [['pen', 'is'], 'land'])\n",
      "(1.4154876403578446e-11, [['p', 'en'], 'island'])\n",
      "\n",
      "\u001b[1;33mpowergenitalia\u001b[0m\n",
      "(2.3455655590397707e-10, ['power', 'genitalia'])\n",
      "(4.423267111598216e-12, ['powergen', 'italia'])\n",
      "(1.2017919308422304e-13, [[['power', 'genital'], 'i'], 'a'])\n",
      "(6.361229222553756e-14, [['power', 'gen'], 'italia'])\n",
      "(5.481432032987714e-14, [['power', 'genital'], 'ia'])\n",
      "\n",
      "\u001b[1;33mbobwehadababyitsaboy\u001b[0m\n",
      "(5.933983622953188e-25, [[[[[[['bob', 'we'], 'had'], 'a'], 'baby'], 'its'], 'a'], 'boy'])\n",
      "(1.285912411401011e-26, [[[[[[['bob', 'we'], 'had'], 'a'], 'baby'], 'it'], 'sa'], 'boy'])\n",
      "(5.067177776368366e-27, [[[[[[['bob', 'we'], 'had'], 'aba'], 'by'], 'its'], 'a'], 'boy'])\n",
      "(4.643487231808153e-27, [[[[[['bob', 'we'], 'hada'], 'baby'], 'its'], 'a'], 'boy'])\n",
      "(3.2328411117258136e-27, [[[[[['bob', 'we'], 'had'], 'a'], 'baby'], 'itsa'], 'boy'])\n",
      "\n",
      "\u001b[1;33mspeedofart\u001b[0m\n",
      "(1.1540058955237274e-09, [['speed', 'of'], 'art'])\n",
      "(3.854578248630931e-12, ['speedo', 'fart'])\n",
      "(1.1476892570058225e-12, [[['speed', 'of'], 'a'], 'rt'])\n",
      "(4.0880837565913807e-13, [['speedo', 'f'], 'art'])\n",
      "(2.3153284031655407e-13, [['speedo', 'far'], 't'])\n",
      "\n",
      "\u001b[1;33mexpertsexchange\u001b[0m\n",
      "(7.114024913452577e-09, ['experts', 'exchange'])\n",
      "(1.2439687519970223e-11, [['expert', 'sex'], 'change'])\n",
      "(8.037797358062166e-12, [['expert', 's'], 'exchange'])\n",
      "(1.3966789886720696e-12, [['experts', 'ex'], 'change'])\n",
      "(4.978653754559928e-14, [['experts', 'e'], 'xchange'])\n",
      "\n",
      "\u001b[1;33mwhorepresents\u001b[0m\n",
      "(3.590239315974436e-08, ['who', 'represents'])\n",
      "(3.3209915537890324e-10, ['whore', 'presents'])\n",
      "(4.5639393521574433e-11, [['who', 'represent'], 's'])\n",
      "(2.952167457757703e-11, [['who', 're'], 'presents'])\n",
      "(1.4360653871269742e-12, [['whore', 'present'], 's'])\n"
     ]
    }
   ],
   "source": [
    "examples = [\n",
    "    'penisland',\n",
    "    'powergenitalia',\n",
    "    'bobwehadababyitsaboy',\n",
    "    'speedofart',\n",
    "    'expertsexchange',\n",
    "    'whorepresents',\n",
    "]\n",
    "\n",
    "score = fit()\n",
    "for x in examples:\n",
    "    print()\n",
    "    print(colors.light.yellow % f'{x}')\n",
    "    for y in take(5, segmentation(x, score)):\n",
    "        print(y)"
   ]
  },
  {
   "cell_type": "code",
   "execution_count": null,
   "metadata": {},
   "outputs": [],
   "source": []
  }
 ],
 "metadata": {
  "kernelspec": {
   "display_name": "Python 3",
   "language": "python",
   "name": "python3"
  },
  "language_info": {
   "codemirror_mode": {
    "name": "ipython",
    "version": 3
   },
   "file_extension": ".py",
   "mimetype": "text/x-python",
   "name": "python",
   "nbconvert_exporter": "python",
   "pygments_lexer": "ipython3",
   "version": "3.7.6"
  }
 },
 "nbformat": 4,
 "nbformat_minor": 4
}
